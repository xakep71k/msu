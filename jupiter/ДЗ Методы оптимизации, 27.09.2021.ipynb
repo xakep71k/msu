{
 "cells": [
  {
   "cell_type": "code",
   "execution_count": 53,
   "id": "e482eb29",
   "metadata": {},
   "outputs": [
    {
     "data": {
      "image/png": "[encoded data removed]",
      "text/plain": [
       "<IPython.core.display.Image object>"
      ]
     },
     "execution_count": 53,
     "metadata": {},
     "output_type": "execute_result"
    }
   ],
   "source": [
    "# Методы оптимизации, для лекции 27.09.2021\n",
    "# ДЗ\n",
    "\n",
    "from IPython.display import Image\n",
    "Image(filename='hessian_matrix.png')\n",
    "# Матрица Гессиана в общем виде"
   ]
  },
  {
   "cell_type": "code",
   "execution_count": 54,
   "id": "3c1eace1",
   "metadata": {},
   "outputs": [],
   "source": [
    "from sympy import *\n",
    "\n",
    "var('x1 x2')\n",
    "rosenbrock = (x1-1)**2 + 100*(x2-x1**2)**2"
   ]
  },
  {
   "cell_type": "code",
   "execution_count": 55,
   "id": "77655927",
   "metadata": {},
   "outputs": [],
   "source": [
    "a11 = diff(rosenbrock, x1, x1)\n",
    "a12 = diff(rosenbrock, x1, x2)\n",
    "a21 = diff(rosenbrock, x2, x1)\n",
    "a22 = diff(rosenbrock, x2, x2)"
   ]
  },
  {
   "cell_type": "code",
   "execution_count": 56,
   "id": "f4583f7f",
   "metadata": {},
   "outputs": [
    {
     "data": {
      "text/latex": [
       "$\\displaystyle \\left[\\begin{matrix}2 \\left(600 x_{1}^{2} - 200 x_{2} + 1\\right) & - 400 x_{1}\\\\- 400 x_{1} & 200\\end{matrix}\\right]$"
      ],
      "text/plain": [
       "Matrix([\n",
       "[2*(600*x1**2 - 200*x2 + 1), -400*x1],\n",
       "[                   -400*x1,     200]])"
      ]
     },
     "execution_count": 56,
     "metadata": {},
     "output_type": "execute_result"
    }
   ],
   "source": [
    "Matrix([[a11, a12], [a21, a22]])"
   ]
  },
  {
   "cell_type": "code",
   "execution_count": 57,
   "id": "90487bad",
   "metadata": {},
   "outputs": [
    {
     "name": "stdout",
     "output_type": "stream",
     "text": [
      "Матрица Гессиана для функции Розенброка\n"
     ]
    },
    {
     "data": {
      "text/latex": [
       "$\\displaystyle \\left[\\begin{matrix}802 & -400\\\\-400 & 200\\end{matrix}\\right]$"
      ],
      "text/plain": [
       "Matrix([\n",
       "[ 802, -400],\n",
       "[-400,  200]])"
      ]
     },
     "execution_count": 57,
     "metadata": {},
     "output_type": "execute_result"
    }
   ],
   "source": [
    "# точка x1 = 1, x2 = 1\n",
    "hessMatrix = Matrix([[a11.subs(x1, 1).subs(x2, 1), a12.subs(x1, 1)], [a21.subs(x1, 1), a22]])\n",
    "print('Матрица Гессиана для функции Розенброка')\n",
    "hessMatrix"
   ]
  },
  {
   "cell_type": "code",
   "execution_count": 58,
   "id": "954085d5",
   "metadata": {},
   "outputs": [
    {
     "name": "stdout",
     "output_type": "stream",
     "text": [
      "Первая строка: 1202\n",
      "L <=  1202\n"
     ]
    }
   ],
   "source": [
    "# Оценка L - это сумма модулей строк\n",
    "# |a11| + |a12|, |a21| + |a22| - выбираем самое большое\n",
    "line1 = abs(hessMatrix[0, 0]) + abs(hessMatrix[0, 1])\n",
    "line2 = abs(hessMatrix[1, 0]) + abs(hessMatrix[1, 1])\n",
    "if line1 < line2:\n",
    "    line = line2\n",
    "    print('Вторая строка:', line2)\n",
    "else:\n",
    "    line = line1\n",
    "    print('Первая строка:', line1)\n",
    "print('L <= ', line)"
   ]
  },
  {
   "cell_type": "code",
   "execution_count": 59,
   "id": "6d08fb9a",
   "metadata": {},
   "outputs": [
    {
     "name": "stdout",
     "output_type": "stream",
     "text": [
      "Обратная матрица:\n"
     ]
    },
    {
     "data": {
      "text/latex": [
       "$\\displaystyle \\left[\\begin{matrix}\\frac{1}{2} & 1\\\\1 & \\frac{401}{200}\\end{matrix}\\right]$"
      ],
      "text/plain": [
       "Matrix([\n",
       "[1/2,       1],\n",
       "[  1, 401/200]])"
      ]
     },
     "execution_count": 59,
     "metadata": {},
     "output_type": "execute_result"
    }
   ],
   "source": [
    "print('Обратная матрица:')\n",
    "hessMatrix.inv()"
   ]
  },
  {
   "cell_type": "code",
   "execution_count": 60,
   "id": "e9a5a00e",
   "metadata": {},
   "outputs": [
    {
     "name": "stdout",
     "output_type": "stream",
     "text": [
      "Вторая строка: 601/200\n",
      "От обратной матрицы: L <=  1202\n"
     ]
    }
   ],
   "source": [
    "invHessMatrix = hessMatrix.inv()\n",
    "line1 = abs(invHessMatrix[0, 0]) + abs(invHessMatrix[0, 1])\n",
    "line2 = abs(invHessMatrix[1, 0]) + abs(invHessMatrix[1, 1])\n",
    "if line1 < line2:\n",
    "    lambdaMax = line2\n",
    "    print('Вторая строка:', line2)\n",
    "else:\n",
    "    lambdaMax = line1\n",
    "    print('Первая строка:', line1)\n",
    "print('От обратной матрицы: L <= ', line)"
   ]
  },
  {
   "cell_type": "code",
   "execution_count": 61,
   "id": "006bb9a1",
   "metadata": {},
   "outputs": [
    {
     "name": "stdout",
     "output_type": "stream",
     "text": [
      "l(A):\n"
     ]
    },
    {
     "data": {
      "text/latex": [
       "$\\displaystyle \\frac{200}{601}$"
      ],
      "text/plain": [
       "200/601"
      ]
     },
     "execution_count": 61,
     "metadata": {},
     "output_type": "execute_result"
    }
   ],
   "source": [
    "# это неверно!!!\n",
    "print('l(A):')\n",
    "1/lambdaMax"
   ]
  },
  {
   "cell_type": "code",
   "execution_count": null,
   "id": "9ce7b1e7",
   "metadata": {},
   "outputs": [],
   "source": []
  }
 ],
 "metadata": {
  "kernelspec": {
   "display_name": "Python 3",
   "language": "python",
   "name": "python3"
  },
  "language_info": {
   "codemirror_mode": {
    "name": "ipython",
    "version": 3
   },
   "file_extension": ".py",
   "mimetype": "text/x-python",
   "name": "python",
   "nbconvert_exporter": "python",
   "pygments_lexer": "ipython3",
   "version": "3.8.8"
  }
 },
 "nbformat": 4,
 "nbformat_minor": 5
}
