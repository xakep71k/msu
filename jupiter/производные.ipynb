{
 "cells": [
  {
   "cell_type": "code",
   "execution_count": 37,
   "id": "6f334a53",
   "metadata": {},
   "outputs": [
    {
     "data": {
      "text/latex": [
       "$\\displaystyle 5 x^{4}$"
      ],
      "text/plain": [
       "5*x**4"
      ]
     },
     "execution_count": 37,
     "metadata": {},
     "output_type": "execute_result"
    }
   ],
   "source": [
    "import sympy as sym\n",
    "\n",
    "#x = sym.Symbol('x')\n",
    "#y = sym.Symbol('y')\n",
    "sym.var('x y')\n",
    "sym.diff(x**5)"
   ]
  },
  {
   "cell_type": "code",
   "execution_count": 38,
   "id": "94c67233",
   "metadata": {},
   "outputs": [
    {
     "data": {
      "text/latex": [
       "$\\displaystyle \\frac{1}{x}$"
      ],
      "text/plain": [
       "1/x"
      ]
     },
     "execution_count": 38,
     "metadata": {},
     "output_type": "execute_result"
    }
   ],
   "source": [
    "sym.diff(sym.log(x))"
   ]
  },
  {
   "cell_type": "code",
   "execution_count": 34,
   "id": "2565c29b",
   "metadata": {},
   "outputs": [
    {
     "data": {
      "text/latex": [
       "$\\displaystyle \\cos{\\left(x \\right)}$"
      ],
      "text/plain": [
       "cos(x)"
      ]
     },
     "execution_count": 34,
     "metadata": {},
     "output_type": "execute_result"
    }
   ],
   "source": [
    "sym.diff(sym.sin(x))"
   ]
  },
  {
   "cell_type": "code",
   "execution_count": 35,
   "id": "871ad4dd",
   "metadata": {},
   "outputs": [
    {
     "data": {
      "text/latex": [
       "$\\displaystyle - \\sin{\\left(x \\right)}$"
      ],
      "text/plain": [
       "-sin(x)"
      ]
     },
     "execution_count": 35,
     "metadata": {},
     "output_type": "execute_result"
    }
   ],
   "source": [
    "sym.diff(sym.cos(x))"
   ]
  },
  {
   "cell_type": "code",
   "execution_count": 40,
   "id": "bb4b08e0",
   "metadata": {},
   "outputs": [
    {
     "data": {
      "text/latex": [
       "$\\displaystyle - 400 x \\left(- x^{2} + y\\right) + 2 x - 2$"
      ],
      "text/plain": [
       "-400*x*(-x**2 + y) + 2*x - 2"
      ]
     },
     "execution_count": 40,
     "metadata": {},
     "output_type": "execute_result"
    }
   ],
   "source": [
    "# функция Росенброка\n",
    "sym.diff((x-1)**2 + 100*(y-x**2)**2, x)"
   ]
  },
  {
   "cell_type": "code",
   "execution_count": null,
   "id": "13a50044",
   "metadata": {},
   "outputs": [],
   "source": []
  }
 ],
 "metadata": {
  "kernelspec": {
   "display_name": "Python 3",
   "language": "python",
   "name": "python3"
  },
  "language_info": {
   "codemirror_mode": {
    "name": "ipython",
    "version": 3
   },
   "file_extension": ".py",
   "mimetype": "text/x-python",
   "name": "python",
   "nbconvert_exporter": "python",
   "pygments_lexer": "ipython3",
   "version": "3.8.8"
  }
 },
 "nbformat": 4,
 "nbformat_minor": 5
}
